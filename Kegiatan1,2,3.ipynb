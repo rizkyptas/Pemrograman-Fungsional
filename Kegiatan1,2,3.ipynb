{
 "cells": [
  {
   "cell_type": "code",
   "execution_count": 28,
   "metadata": {},
   "outputs": [
    {
     "name": "stdout",
     "output_type": "stream",
     "text": [
      "Hasil evaluasi pohon ekspresi :  20\n"
     ]
    }
   ],
   "source": [
    "# Fungsi Pertambahan\n",
    "def add(a, b):\n",
    "    return a + b\n",
    "\n",
    "# Fungsi Pengurangan\n",
    "def minus(a, b):\n",
    "    return a - b\n",
    "\n",
    "# Fungsi Perkalian\n",
    "def mult(a, b):\n",
    "    return a * b\n",
    "\n",
    "# Fungsi Pembagian\n",
    "def div(a, b):\n",
    "    if b != 0:\n",
    "        return a / b\n",
    "    else:\n",
    "        return \"Silahkan masukkan angka selain 0\"\n",
    "\n",
    "def tree(expression):\n",
    "    if isinstance(expression, tuple):\n",
    "        left, operator, right = expression\n",
    "        if operator == '+':\n",
    "            return add(tree(left), tree(right))\n",
    "        elif operator == '-':\n",
    "            return minus(tree(left), tree(right))\n",
    "        elif operator == '*':\n",
    "            return mult(tree(left), tree(right))\n",
    "        elif operator == '/':\n",
    "            return div(tree(left), tree(right))\n",
    "    else:\n",
    "        return expression\n",
    "\n",
    "expression_tree = ((2, '+', 3), '*', (5, '-', 1))\n",
    "\n",
    "# Evaluasi pohon ekspresi dengan fungsi pada paradigma fungsional\n",
    "result = tree(expression_tree)\n",
    "print(\"Hasil evaluasi pohon ekspresi : \", result)"
   ]
  },
  {
   "cell_type": "code",
   "execution_count": 29,
   "metadata": {},
   "outputs": [
    {
     "name": "stdout",
     "output_type": "stream",
     "text": [
      "Data integer >> bentuk dictionary:\n",
      "{'Angka Satuan': [5, 7, 2], 'Angka Puluhan': [0, 3, 1], 'Angka Ratusan': [1, 7, 4]}\n",
      "Data float >> bentuk tuple:\n",
      "(3.1, 2.7, 5.5)\n",
      "Data string >> bentuk list:\n",
      "['Hello', 'Python', 'World', 'AI']\n"
     ]
    }
   ],
   "source": [
    "random_list = [105, 3.1, \"Hello\", 737, \"Python\", 2.7, \"World\", 412, 5.5, \"AI\"]\n",
    "\n",
    "int_dict = {\"Angka Satuan\": [], \"Angka Puluhan\": [], \"Angka Ratusan\": []}\n",
    "float_tuple = ()\n",
    "string_list = []\n",
    "\n",
    "for item in random_list:\n",
    "    if isinstance(item, int):\n",
    "        # Memisahkan antara angka satuan, puluhan, dan ratusan\n",
    "        satuan = item % 10\n",
    "        puluhan = (item // 10) % 10\n",
    "        ratusan = item // 100\n",
    "        int_dict[\"Angka Satuan\"].append(satuan)\n",
    "        int_dict[\"Angka Puluhan\"].append(puluhan)\n",
    "        int_dict[\"Angka Ratusan\"].append(ratusan)\n",
    "    elif isinstance(item, float):\n",
    "        # Menyimpan data float ke dalam bentuk tuple\n",
    "        float_tuple += (item,)\n",
    "    elif isinstance(item, str):\n",
    "        # Menyimpan data string ke dalam list\n",
    "        string_list.append(item)\n",
    "\n",
    "print(\"Data integer >> bentuk dictionary:\")\n",
    "print(int_dict)\n",
    "print(\"Data float >> bentuk tuple:\")\n",
    "print(float_tuple)\n",
    "print(\"Data string >> bentuk list:\")\n",
    "print(string_list)"
   ]
  },
  {
   "cell_type": "code",
   "execution_count": 30,
   "metadata": {},
   "outputs": [
    {
     "name": "stdout",
     "output_type": "stream",
     "text": [
      "Hasil Nilai Akhir Mahasiswa :\n",
      "Nama : A\tNilai Akhir : 92.50\n",
      "Nama : F\tNilai Akhir : 82.50\n",
      "Nama : U\tNilai Akhir : 70.00\n"
     ]
    }
   ],
   "source": [
    "# Fungsi yang digunakan untuk menghitung nilai akhir satu mahasiswa\n",
    "def hitung_nilai(uts, uas):\n",
    "    return (uts + uas) / 2\n",
    "\n",
    "# Menghitung nilai akhir semua mahasiswa\n",
    "def total_nilai(data_mahasiswa):\n",
    "    data_nilai_akhir = {}\n",
    "    for nama, nilai in data_mahasiswa.items():\n",
    "        uts, uas = nilai\n",
    "        nilai_akhir = hitung_nilai(uts, uas)\n",
    "        data_nilai_akhir[nama] = nilai_akhir\n",
    "    return data_nilai_akhir\n",
    "\n",
    "# Menampilkan nilai akhir\n",
    "def tampilkan_nilai(data_nilai_akhir):\n",
    "    print(\"Hasil Nilai Akhir Mahasiswa :\")\n",
    "    for nama, nilai_akhir in data_nilai_akhir.items():\n",
    "        print(\"Nama : {}\\tNilai Akhir : {:.2f}\".format(nama, nilai_akhir))\n",
    "\n",
    "def main():\n",
    "    data_mahasiswa = {\n",
    "        \"A\": (100, 85),  \n",
    "        \"F\": (75, 90),  \n",
    "        \"U\": (65, 75),  \n",
    "    }\n",
    "\n",
    "    data_nilai_akhir = total_nilai(data_mahasiswa)\n",
    "    \n",
    "    tampilkan_nilai(data_nilai_akhir)\n",
    "\n",
    "if __name__ == \"__main__\":\n",
    "    main()"
   ]
  }
 ],
 "metadata": {
  "kernelspec": {
   "display_name": "base",
   "language": "python",
   "name": "python3"
  },
  "language_info": {
   "codemirror_mode": {
    "name": "ipython",
    "version": 3
   },
   "file_extension": ".py",
   "mimetype": "text/x-python",
   "name": "python",
   "nbconvert_exporter": "python",
   "pygments_lexer": "ipython3",
   "version": "3.9.12"
  },
  "orig_nbformat": 4
 },
 "nbformat": 4,
 "nbformat_minor": 2
}
